{
 "cells": [
  {
   "cell_type": "code",
   "execution_count": 2,
   "metadata": {},
   "outputs": [],
   "source": [
    "%load_ext autoreload\n",
    "%autoreload 2"
   ]
  },
  {
   "cell_type": "code",
   "execution_count": 12,
   "metadata": {},
   "outputs": [],
   "source": [
    "import numpy as np\n",
    "import pandas as pd\n",
    "import tensorflow as tf\n",
    "from tensorflow import keras\n",
    "from tensorflow.keras import layers\n",
    "from tensorflow.keras.callbacks import TensorBoard\n",
    "import seaborn as sns\n",
    "import matplotlib.pyplot as plt\n",
    "from datetime import datetime"
   ]
  },
  {
   "cell_type": "markdown",
   "metadata": {},
   "source": [
    "# EDA\n",
    "\n",
    "Exploratory data analysis"
   ]
  },
  {
   "cell_type": "code",
   "execution_count": 4,
   "metadata": {},
   "outputs": [
    {
     "name": "stdout",
     "output_type": "stream",
     "text": [
      "Training cases: 225088    Validation cases: 28136\n"
     ]
    }
   ],
   "source": [
    "# Load datasets\n",
    "\n",
    "df_train = pd.read_csv(\"./data/train.csv\")\n",
    "df_valid = pd.read_csv(\"./data/valid.csv\")\n",
    "\n",
    "print(f\"Training cases: {len(df_train)}    Validation cases: {len(df_valid)}\")"
   ]
  },
  {
   "cell_type": "code",
   "execution_count": 5,
   "metadata": {},
   "outputs": [
    {
     "data": {
      "text/html": [
       "<div>\n",
       "<style scoped>\n",
       "    .dataframe tbody tr th:only-of-type {\n",
       "        vertical-align: middle;\n",
       "    }\n",
       "\n",
       "    .dataframe tbody tr th {\n",
       "        vertical-align: top;\n",
       "    }\n",
       "\n",
       "    .dataframe thead th {\n",
       "        text-align: right;\n",
       "    }\n",
       "</style>\n",
       "<table border=\"1\" class=\"dataframe\">\n",
       "  <thead>\n",
       "    <tr style=\"text-align: right;\">\n",
       "      <th></th>\n",
       "      <th>start_time</th>\n",
       "      <th>hydro</th>\n",
       "      <th>micro</th>\n",
       "      <th>thermal</th>\n",
       "      <th>wind</th>\n",
       "      <th>river</th>\n",
       "      <th>total</th>\n",
       "      <th>y</th>\n",
       "      <th>sys_reg</th>\n",
       "      <th>flow</th>\n",
       "    </tr>\n",
       "  </thead>\n",
       "  <tbody>\n",
       "    <tr>\n",
       "      <th>0</th>\n",
       "      <td>2019-01-09 14:10:00</td>\n",
       "      <td>1591.839</td>\n",
       "      <td>141.928</td>\n",
       "      <td>11.5</td>\n",
       "      <td>74.428</td>\n",
       "      <td>0.0</td>\n",
       "      <td>1819.695</td>\n",
       "      <td>341.330021</td>\n",
       "      <td>10.0</td>\n",
       "      <td>-4417.4</td>\n",
       "    </tr>\n",
       "    <tr>\n",
       "      <th>1</th>\n",
       "      <td>2019-01-09 14:15:00</td>\n",
       "      <td>1591.839</td>\n",
       "      <td>141.928</td>\n",
       "      <td>11.5</td>\n",
       "      <td>74.428</td>\n",
       "      <td>0.0</td>\n",
       "      <td>1819.695</td>\n",
       "      <td>330.114330</td>\n",
       "      <td>10.0</td>\n",
       "      <td>-4417.4</td>\n",
       "    </tr>\n",
       "    <tr>\n",
       "      <th>2</th>\n",
       "      <td>2019-01-09 14:20:00</td>\n",
       "      <td>1591.839</td>\n",
       "      <td>141.928</td>\n",
       "      <td>11.5</td>\n",
       "      <td>74.428</td>\n",
       "      <td>0.0</td>\n",
       "      <td>1819.695</td>\n",
       "      <td>323.877221</td>\n",
       "      <td>10.0</td>\n",
       "      <td>-4417.4</td>\n",
       "    </tr>\n",
       "    <tr>\n",
       "      <th>3</th>\n",
       "      <td>2019-01-09 14:25:00</td>\n",
       "      <td>1591.839</td>\n",
       "      <td>141.928</td>\n",
       "      <td>11.5</td>\n",
       "      <td>74.428</td>\n",
       "      <td>0.0</td>\n",
       "      <td>1819.695</td>\n",
       "      <td>296.438463</td>\n",
       "      <td>10.0</td>\n",
       "      <td>-4417.4</td>\n",
       "    </tr>\n",
       "    <tr>\n",
       "      <th>4</th>\n",
       "      <td>2019-01-09 14:30:00</td>\n",
       "      <td>1591.839</td>\n",
       "      <td>141.928</td>\n",
       "      <td>11.5</td>\n",
       "      <td>74.428</td>\n",
       "      <td>0.0</td>\n",
       "      <td>1819.695</td>\n",
       "      <td>269.097132</td>\n",
       "      <td>10.0</td>\n",
       "      <td>-4417.4</td>\n",
       "    </tr>\n",
       "  </tbody>\n",
       "</table>\n",
       "</div>"
      ],
      "text/plain": [
       "            start_time     hydro    micro  thermal    wind  river     total  \\\n",
       "0  2019-01-09 14:10:00  1591.839  141.928     11.5  74.428    0.0  1819.695   \n",
       "1  2019-01-09 14:15:00  1591.839  141.928     11.5  74.428    0.0  1819.695   \n",
       "2  2019-01-09 14:20:00  1591.839  141.928     11.5  74.428    0.0  1819.695   \n",
       "3  2019-01-09 14:25:00  1591.839  141.928     11.5  74.428    0.0  1819.695   \n",
       "4  2019-01-09 14:30:00  1591.839  141.928     11.5  74.428    0.0  1819.695   \n",
       "\n",
       "            y  sys_reg    flow  \n",
       "0  341.330021     10.0 -4417.4  \n",
       "1  330.114330     10.0 -4417.4  \n",
       "2  323.877221     10.0 -4417.4  \n",
       "3  296.438463     10.0 -4417.4  \n",
       "4  269.097132     10.0 -4417.4  "
      ]
     },
     "execution_count": 5,
     "metadata": {},
     "output_type": "execute_result"
    }
   ],
   "source": [
    "df_train.head(5)"
   ]
  },
  {
   "cell_type": "markdown",
   "metadata": {},
   "source": [
    "We see that the time interval is 5 minutes. The training data starts 19th of January 2019 at 14:10:00"
   ]
  },
  {
   "cell_type": "code",
   "execution_count": 6,
   "metadata": {},
   "outputs": [
    {
     "data": {
      "text/html": [
       "<div>\n",
       "<style scoped>\n",
       "    .dataframe tbody tr th:only-of-type {\n",
       "        vertical-align: middle;\n",
       "    }\n",
       "\n",
       "    .dataframe tbody tr th {\n",
       "        vertical-align: top;\n",
       "    }\n",
       "\n",
       "    .dataframe thead th {\n",
       "        text-align: right;\n",
       "    }\n",
       "</style>\n",
       "<table border=\"1\" class=\"dataframe\">\n",
       "  <thead>\n",
       "    <tr style=\"text-align: right;\">\n",
       "      <th></th>\n",
       "      <th>start_time</th>\n",
       "      <th>hydro</th>\n",
       "      <th>micro</th>\n",
       "      <th>thermal</th>\n",
       "      <th>wind</th>\n",
       "      <th>river</th>\n",
       "      <th>total</th>\n",
       "      <th>y</th>\n",
       "      <th>sys_reg</th>\n",
       "      <th>flow</th>\n",
       "    </tr>\n",
       "  </thead>\n",
       "  <tbody>\n",
       "    <tr>\n",
       "      <th>0</th>\n",
       "      <td>2021-03-01 03:30:00</td>\n",
       "      <td>1942.49</td>\n",
       "      <td>191.881</td>\n",
       "      <td>20.1</td>\n",
       "      <td>106.431</td>\n",
       "      <td>0.0</td>\n",
       "      <td>2266.102</td>\n",
       "      <td>52.119595</td>\n",
       "      <td>0.0</td>\n",
       "      <td>-2252.9</td>\n",
       "    </tr>\n",
       "    <tr>\n",
       "      <th>1</th>\n",
       "      <td>2021-03-01 03:35:00</td>\n",
       "      <td>1942.49</td>\n",
       "      <td>191.881</td>\n",
       "      <td>20.1</td>\n",
       "      <td>106.431</td>\n",
       "      <td>0.0</td>\n",
       "      <td>2266.102</td>\n",
       "      <td>90.374541</td>\n",
       "      <td>0.0</td>\n",
       "      <td>-2252.9</td>\n",
       "    </tr>\n",
       "    <tr>\n",
       "      <th>2</th>\n",
       "      <td>2021-03-01 03:40:00</td>\n",
       "      <td>1942.49</td>\n",
       "      <td>191.881</td>\n",
       "      <td>20.1</td>\n",
       "      <td>106.431</td>\n",
       "      <td>0.0</td>\n",
       "      <td>2266.102</td>\n",
       "      <td>88.435063</td>\n",
       "      <td>0.0</td>\n",
       "      <td>-2252.9</td>\n",
       "    </tr>\n",
       "    <tr>\n",
       "      <th>3</th>\n",
       "      <td>2021-03-01 03:45:00</td>\n",
       "      <td>1942.49</td>\n",
       "      <td>191.881</td>\n",
       "      <td>20.1</td>\n",
       "      <td>106.431</td>\n",
       "      <td>0.0</td>\n",
       "      <td>2266.102</td>\n",
       "      <td>53.375518</td>\n",
       "      <td>0.0</td>\n",
       "      <td>-2252.9</td>\n",
       "    </tr>\n",
       "    <tr>\n",
       "      <th>4</th>\n",
       "      <td>2021-03-01 03:50:00</td>\n",
       "      <td>1942.49</td>\n",
       "      <td>191.881</td>\n",
       "      <td>20.1</td>\n",
       "      <td>106.431</td>\n",
       "      <td>0.0</td>\n",
       "      <td>2266.102</td>\n",
       "      <td>65.496683</td>\n",
       "      <td>0.0</td>\n",
       "      <td>-2252.9</td>\n",
       "    </tr>\n",
       "  </tbody>\n",
       "</table>\n",
       "</div>"
      ],
      "text/plain": [
       "            start_time    hydro    micro  thermal     wind  river     total  \\\n",
       "0  2021-03-01 03:30:00  1942.49  191.881     20.1  106.431    0.0  2266.102   \n",
       "1  2021-03-01 03:35:00  1942.49  191.881     20.1  106.431    0.0  2266.102   \n",
       "2  2021-03-01 03:40:00  1942.49  191.881     20.1  106.431    0.0  2266.102   \n",
       "3  2021-03-01 03:45:00  1942.49  191.881     20.1  106.431    0.0  2266.102   \n",
       "4  2021-03-01 03:50:00  1942.49  191.881     20.1  106.431    0.0  2266.102   \n",
       "\n",
       "           y  sys_reg    flow  \n",
       "0  52.119595      0.0 -2252.9  \n",
       "1  90.374541      0.0 -2252.9  \n",
       "2  88.435063      0.0 -2252.9  \n",
       "3  53.375518      0.0 -2252.9  \n",
       "4  65.496683      0.0 -2252.9  "
      ]
     },
     "execution_count": 6,
     "metadata": {},
     "output_type": "execute_result"
    }
   ],
   "source": [
    "df_valid.head(5)"
   ]
  },
  {
   "cell_type": "markdown",
   "metadata": {},
   "source": [
    "The validation data starts 1st of March 2021 at 03:30:00, which is the next timestep after the training set ends."
   ]
  },
  {
   "cell_type": "markdown",
   "metadata": {},
   "source": [
    "Instead of using the start_time as time variable, we introduce a variable t. t=0 is the 19th of January 2019 at 14:10:00, and increases by 1 for each 5 minutes. "
   ]
  },
  {
   "cell_type": "code",
   "execution_count": 5,
   "metadata": {},
   "outputs": [],
   "source": [
    "df_train['t'] = df_train.index\n",
    "df_valid['t'] = df_valid.index + len(df_train)\n",
    "valid_index = len(df_train)"
   ]
  },
  {
   "cell_type": "markdown",
   "metadata": {},
   "source": [
    "To make things a little bit easier, we will to the EDA on a merged dataset."
   ]
  },
  {
   "cell_type": "code",
   "execution_count": 6,
   "metadata": {},
   "outputs": [
    {
     "name": "stderr",
     "output_type": "stream",
     "text": [
      "C:\\Users\\joste\\AppData\\Local\\Temp\\ipykernel_70524\\2564866483.py:1: FutureWarning: The frame.append method is deprecated and will be removed from pandas in a future version. Use pandas.concat instead.\n",
      "  df = df_train.append(df_valid, ignore_index=True)\n"
     ]
    }
   ],
   "source": [
    "df = df_train.append(df_valid, ignore_index=True)"
   ]
  },
  {
   "cell_type": "markdown",
   "metadata": {},
   "source": [
    "## Variables\n",
    "\n",
    "Let us look at some statistics for the different variables."
   ]
  },
  {
   "cell_type": "code",
   "execution_count": 9,
   "metadata": {},
   "outputs": [
    {
     "data": {
      "text/html": [
       "<div>\n",
       "<style scoped>\n",
       "    .dataframe tbody tr th:only-of-type {\n",
       "        vertical-align: middle;\n",
       "    }\n",
       "\n",
       "    .dataframe tbody tr th {\n",
       "        vertical-align: top;\n",
       "    }\n",
       "\n",
       "    .dataframe thead th {\n",
       "        text-align: right;\n",
       "    }\n",
       "</style>\n",
       "<table border=\"1\" class=\"dataframe\">\n",
       "  <thead>\n",
       "    <tr style=\"text-align: right;\">\n",
       "      <th></th>\n",
       "      <th>hydro</th>\n",
       "      <th>micro</th>\n",
       "      <th>thermal</th>\n",
       "      <th>wind</th>\n",
       "      <th>river</th>\n",
       "      <th>total</th>\n",
       "      <th>y</th>\n",
       "      <th>sys_reg</th>\n",
       "      <th>flow</th>\n",
       "      <th>t</th>\n",
       "    </tr>\n",
       "  </thead>\n",
       "  <tbody>\n",
       "    <tr>\n",
       "      <th>count</th>\n",
       "      <td>253224.000000</td>\n",
       "      <td>253224.000000</td>\n",
       "      <td>253224.000000</td>\n",
       "      <td>253224.000000</td>\n",
       "      <td>253224.0</td>\n",
       "      <td>253224.000000</td>\n",
       "      <td>253224.000000</td>\n",
       "      <td>253224.000000</td>\n",
       "      <td>253224.000000</td>\n",
       "      <td>253224.00000</td>\n",
       "    </tr>\n",
       "    <tr>\n",
       "      <th>mean</th>\n",
       "      <td>1881.092565</td>\n",
       "      <td>222.391459</td>\n",
       "      <td>21.181322</td>\n",
       "      <td>57.021133</td>\n",
       "      <td>0.0</td>\n",
       "      <td>2181.691454</td>\n",
       "      <td>5.687162</td>\n",
       "      <td>-8.208926</td>\n",
       "      <td>-1993.421635</td>\n",
       "      <td>126611.50000</td>\n",
       "    </tr>\n",
       "    <tr>\n",
       "      <th>std</th>\n",
       "      <td>406.298541</td>\n",
       "      <td>59.606814</td>\n",
       "      <td>4.626663</td>\n",
       "      <td>48.128498</td>\n",
       "      <td>0.0</td>\n",
       "      <td>450.031718</td>\n",
       "      <td>389.910506</td>\n",
       "      <td>42.332445</td>\n",
       "      <td>1282.716413</td>\n",
       "      <td>73099.61662</td>\n",
       "    </tr>\n",
       "    <tr>\n",
       "      <th>min</th>\n",
       "      <td>203.848000</td>\n",
       "      <td>36.002000</td>\n",
       "      <td>0.000000</td>\n",
       "      <td>0.000000</td>\n",
       "      <td>0.0</td>\n",
       "      <td>263.138000</td>\n",
       "      <td>-56379.459763</td>\n",
       "      <td>-828.000000</td>\n",
       "      <td>-5541.200000</td>\n",
       "      <td>0.00000</td>\n",
       "    </tr>\n",
       "    <tr>\n",
       "      <th>25%</th>\n",
       "      <td>1607.467000</td>\n",
       "      <td>180.311000</td>\n",
       "      <td>20.500000</td>\n",
       "      <td>15.961000</td>\n",
       "      <td>0.0</td>\n",
       "      <td>1891.512000</td>\n",
       "      <td>-135.839573</td>\n",
       "      <td>0.000000</td>\n",
       "      <td>-2935.000000</td>\n",
       "      <td>63305.75000</td>\n",
       "    </tr>\n",
       "    <tr>\n",
       "      <th>50%</th>\n",
       "      <td>1919.577000</td>\n",
       "      <td>220.469000</td>\n",
       "      <td>22.100000</td>\n",
       "      <td>42.962000</td>\n",
       "      <td>0.0</td>\n",
       "      <td>2228.355000</td>\n",
       "      <td>-5.781307</td>\n",
       "      <td>0.000000</td>\n",
       "      <td>-2012.005000</td>\n",
       "      <td>126611.50000</td>\n",
       "    </tr>\n",
       "    <tr>\n",
       "      <th>75%</th>\n",
       "      <td>2172.373000</td>\n",
       "      <td>268.814000</td>\n",
       "      <td>23.100000</td>\n",
       "      <td>91.256000</td>\n",
       "      <td>0.0</td>\n",
       "      <td>2495.213000</td>\n",
       "      <td>127.202385</td>\n",
       "      <td>0.000000</td>\n",
       "      <td>-920.900000</td>\n",
       "      <td>189917.25000</td>\n",
       "    </tr>\n",
       "    <tr>\n",
       "      <th>max</th>\n",
       "      <td>2995.524000</td>\n",
       "      <td>349.271000</td>\n",
       "      <td>25.700000</td>\n",
       "      <td>180.000000</td>\n",
       "      <td>0.0</td>\n",
       "      <td>3351.974000</td>\n",
       "      <td>2956.333317</td>\n",
       "      <td>474.000000</td>\n",
       "      <td>723.400000</td>\n",
       "      <td>253223.00000</td>\n",
       "    </tr>\n",
       "  </tbody>\n",
       "</table>\n",
       "</div>"
      ],
      "text/plain": [
       "               hydro          micro        thermal           wind     river  \\\n",
       "count  253224.000000  253224.000000  253224.000000  253224.000000  253224.0   \n",
       "mean     1881.092565     222.391459      21.181322      57.021133       0.0   \n",
       "std       406.298541      59.606814       4.626663      48.128498       0.0   \n",
       "min       203.848000      36.002000       0.000000       0.000000       0.0   \n",
       "25%      1607.467000     180.311000      20.500000      15.961000       0.0   \n",
       "50%      1919.577000     220.469000      22.100000      42.962000       0.0   \n",
       "75%      2172.373000     268.814000      23.100000      91.256000       0.0   \n",
       "max      2995.524000     349.271000      25.700000     180.000000       0.0   \n",
       "\n",
       "               total              y        sys_reg           flow  \\\n",
       "count  253224.000000  253224.000000  253224.000000  253224.000000   \n",
       "mean     2181.691454       5.687162      -8.208926   -1993.421635   \n",
       "std       450.031718     389.910506      42.332445    1282.716413   \n",
       "min       263.138000  -56379.459763    -828.000000   -5541.200000   \n",
       "25%      1891.512000    -135.839573       0.000000   -2935.000000   \n",
       "50%      2228.355000      -5.781307       0.000000   -2012.005000   \n",
       "75%      2495.213000     127.202385       0.000000    -920.900000   \n",
       "max      3351.974000    2956.333317     474.000000     723.400000   \n",
       "\n",
       "                  t  \n",
       "count  253224.00000  \n",
       "mean   126611.50000  \n",
       "std     73099.61662  \n",
       "min         0.00000  \n",
       "25%     63305.75000  \n",
       "50%    126611.50000  \n",
       "75%    189917.25000  \n",
       "max    253223.00000  "
      ]
     },
     "execution_count": 9,
     "metadata": {},
     "output_type": "execute_result"
    }
   ],
   "source": [
    "df.describe()"
   ]
  },
  {
   "cell_type": "markdown",
   "metadata": {},
   "source": [
    "### The target variable: y\n",
    "\n",
    "We want to predict the variable y, which is the estimated ”open loop” power\n",
    "grid imbalance at time step t. Let us have a look at the values for y."
   ]
  },
  {
   "cell_type": "code",
   "execution_count": 10,
   "metadata": {},
   "outputs": [
    {
     "data": {
      "image/png": "[encoded data removed]",
      "text/plain": [
       "<Figure size 432x288 with 1 Axes>"
      ]
     },
     "metadata": {
      "needs_background": "light"
     },
     "output_type": "display_data"
    }
   ],
   "source": [
    "sns.lineplot(data=df, x='t', y='y' ) # Complete dataset\n",
    "plt.show()"
   ]
  },
  {
   "cell_type": "markdown",
   "metadata": {},
   "source": [
    "It appears that we have some outliers in the dataset. Given that the total power production is in the range of 10^3, it should be safe to assume that these are wrong values. "
   ]
  },
  {
   "cell_type": "code",
   "execution_count": 11,
   "metadata": {},
   "outputs": [
    {
     "data": {
      "text/html": [
       "<div>\n",
       "<style scoped>\n",
       "    .dataframe tbody tr th:only-of-type {\n",
       "        vertical-align: middle;\n",
       "    }\n",
       "\n",
       "    .dataframe tbody tr th {\n",
       "        vertical-align: top;\n",
       "    }\n",
       "\n",
       "    .dataframe thead th {\n",
       "        text-align: right;\n",
       "    }\n",
       "</style>\n",
       "<table border=\"1\" class=\"dataframe\">\n",
       "  <thead>\n",
       "    <tr style=\"text-align: right;\">\n",
       "      <th></th>\n",
       "      <th>start_time</th>\n",
       "      <th>hydro</th>\n",
       "      <th>micro</th>\n",
       "      <th>thermal</th>\n",
       "      <th>wind</th>\n",
       "      <th>river</th>\n",
       "      <th>total</th>\n",
       "      <th>y</th>\n",
       "      <th>sys_reg</th>\n",
       "      <th>flow</th>\n",
       "      <th>t</th>\n",
       "    </tr>\n",
       "  </thead>\n",
       "  <tbody>\n",
       "    <tr>\n",
       "      <th>239255</th>\n",
       "      <td>2021-04-19 08:05:00</td>\n",
       "      <td>1720.256</td>\n",
       "      <td>178.419</td>\n",
       "      <td>20.1</td>\n",
       "      <td>17.069</td>\n",
       "      <td>0.0</td>\n",
       "      <td>1935.844</td>\n",
       "      <td>-11134.172366</td>\n",
       "      <td>0.0</td>\n",
       "      <td>-2217.50</td>\n",
       "      <td>239255</td>\n",
       "    </tr>\n",
       "    <tr>\n",
       "      <th>239256</th>\n",
       "      <td>2021-04-19 08:10:00</td>\n",
       "      <td>1720.256</td>\n",
       "      <td>178.419</td>\n",
       "      <td>20.1</td>\n",
       "      <td>17.069</td>\n",
       "      <td>0.0</td>\n",
       "      <td>1935.844</td>\n",
       "      <td>-39017.080774</td>\n",
       "      <td>0.0</td>\n",
       "      <td>-2217.50</td>\n",
       "      <td>239256</td>\n",
       "    </tr>\n",
       "    <tr>\n",
       "      <th>239257</th>\n",
       "      <td>2021-04-19 08:15:00</td>\n",
       "      <td>1720.256</td>\n",
       "      <td>178.419</td>\n",
       "      <td>20.1</td>\n",
       "      <td>17.069</td>\n",
       "      <td>0.0</td>\n",
       "      <td>1935.844</td>\n",
       "      <td>-47449.021916</td>\n",
       "      <td>0.0</td>\n",
       "      <td>-2217.50</td>\n",
       "      <td>239257</td>\n",
       "    </tr>\n",
       "    <tr>\n",
       "      <th>239258</th>\n",
       "      <td>2021-04-19 08:20:00</td>\n",
       "      <td>1720.256</td>\n",
       "      <td>178.419</td>\n",
       "      <td>20.1</td>\n",
       "      <td>17.069</td>\n",
       "      <td>0.0</td>\n",
       "      <td>1935.844</td>\n",
       "      <td>-15023.245419</td>\n",
       "      <td>0.0</td>\n",
       "      <td>-2217.50</td>\n",
       "      <td>239258</td>\n",
       "    </tr>\n",
       "    <tr>\n",
       "      <th>239590</th>\n",
       "      <td>2021-04-20 12:00:00</td>\n",
       "      <td>1530.658</td>\n",
       "      <td>180.064</td>\n",
       "      <td>20.1</td>\n",
       "      <td>54.909</td>\n",
       "      <td>0.0</td>\n",
       "      <td>1785.731</td>\n",
       "      <td>-19848.287205</td>\n",
       "      <td>0.0</td>\n",
       "      <td>-1840.28</td>\n",
       "      <td>239590</td>\n",
       "    </tr>\n",
       "    <tr>\n",
       "      <th>239591</th>\n",
       "      <td>2021-04-20 12:05:00</td>\n",
       "      <td>1530.658</td>\n",
       "      <td>180.064</td>\n",
       "      <td>20.1</td>\n",
       "      <td>54.909</td>\n",
       "      <td>0.0</td>\n",
       "      <td>1785.731</td>\n",
       "      <td>-9920.642511</td>\n",
       "      <td>0.0</td>\n",
       "      <td>-1812.50</td>\n",
       "      <td>239591</td>\n",
       "    </tr>\n",
       "    <tr>\n",
       "      <th>240459</th>\n",
       "      <td>2021-04-23 12:25:00</td>\n",
       "      <td>1239.589</td>\n",
       "      <td>176.324</td>\n",
       "      <td>20.1</td>\n",
       "      <td>117.094</td>\n",
       "      <td>0.0</td>\n",
       "      <td>1553.107</td>\n",
       "      <td>-7291.023308</td>\n",
       "      <td>0.0</td>\n",
       "      <td>-2626.60</td>\n",
       "      <td>240459</td>\n",
       "    </tr>\n",
       "    <tr>\n",
       "      <th>241298</th>\n",
       "      <td>2021-04-26 10:20:00</td>\n",
       "      <td>1687.963</td>\n",
       "      <td>175.531</td>\n",
       "      <td>20.1</td>\n",
       "      <td>52.104</td>\n",
       "      <td>0.0</td>\n",
       "      <td>1935.698</td>\n",
       "      <td>-6851.170808</td>\n",
       "      <td>0.0</td>\n",
       "      <td>-2598.90</td>\n",
       "      <td>241298</td>\n",
       "    </tr>\n",
       "    <tr>\n",
       "      <th>243730</th>\n",
       "      <td>2021-05-04 21:00:00</td>\n",
       "      <td>1194.585</td>\n",
       "      <td>148.296</td>\n",
       "      <td>20.1</td>\n",
       "      <td>164.832</td>\n",
       "      <td>0.0</td>\n",
       "      <td>1527.813</td>\n",
       "      <td>-56379.459763</td>\n",
       "      <td>0.0</td>\n",
       "      <td>-2496.68</td>\n",
       "      <td>243730</td>\n",
       "    </tr>\n",
       "    <tr>\n",
       "      <th>243731</th>\n",
       "      <td>2021-05-04 21:05:00</td>\n",
       "      <td>1194.585</td>\n",
       "      <td>148.296</td>\n",
       "      <td>20.1</td>\n",
       "      <td>164.832</td>\n",
       "      <td>0.0</td>\n",
       "      <td>1527.813</td>\n",
       "      <td>-49624.840806</td>\n",
       "      <td>0.0</td>\n",
       "      <td>-2444.90</td>\n",
       "      <td>243731</td>\n",
       "    </tr>\n",
       "    <tr>\n",
       "      <th>243732</th>\n",
       "      <td>2021-05-04 21:10:00</td>\n",
       "      <td>1194.585</td>\n",
       "      <td>148.296</td>\n",
       "      <td>20.1</td>\n",
       "      <td>164.832</td>\n",
       "      <td>0.0</td>\n",
       "      <td>1527.813</td>\n",
       "      <td>-48528.735068</td>\n",
       "      <td>0.0</td>\n",
       "      <td>-2444.90</td>\n",
       "      <td>243732</td>\n",
       "    </tr>\n",
       "    <tr>\n",
       "      <th>243733</th>\n",
       "      <td>2021-05-04 21:15:00</td>\n",
       "      <td>1194.585</td>\n",
       "      <td>148.296</td>\n",
       "      <td>20.1</td>\n",
       "      <td>164.832</td>\n",
       "      <td>0.0</td>\n",
       "      <td>1527.813</td>\n",
       "      <td>-14560.033833</td>\n",
       "      <td>0.0</td>\n",
       "      <td>-2444.90</td>\n",
       "      <td>243733</td>\n",
       "    </tr>\n",
       "  </tbody>\n",
       "</table>\n",
       "</div>"
      ],
      "text/plain": [
       "                 start_time     hydro    micro  thermal     wind  river  \\\n",
       "239255  2021-04-19 08:05:00  1720.256  178.419     20.1   17.069    0.0   \n",
       "239256  2021-04-19 08:10:00  1720.256  178.419     20.1   17.069    0.0   \n",
       "239257  2021-04-19 08:15:00  1720.256  178.419     20.1   17.069    0.0   \n",
       "239258  2021-04-19 08:20:00  1720.256  178.419     20.1   17.069    0.0   \n",
       "239590  2021-04-20 12:00:00  1530.658  180.064     20.1   54.909    0.0   \n",
       "239591  2021-04-20 12:05:00  1530.658  180.064     20.1   54.909    0.0   \n",
       "240459  2021-04-23 12:25:00  1239.589  176.324     20.1  117.094    0.0   \n",
       "241298  2021-04-26 10:20:00  1687.963  175.531     20.1   52.104    0.0   \n",
       "243730  2021-05-04 21:00:00  1194.585  148.296     20.1  164.832    0.0   \n",
       "243731  2021-05-04 21:05:00  1194.585  148.296     20.1  164.832    0.0   \n",
       "243732  2021-05-04 21:10:00  1194.585  148.296     20.1  164.832    0.0   \n",
       "243733  2021-05-04 21:15:00  1194.585  148.296     20.1  164.832    0.0   \n",
       "\n",
       "           total             y  sys_reg     flow       t  \n",
       "239255  1935.844 -11134.172366      0.0 -2217.50  239255  \n",
       "239256  1935.844 -39017.080774      0.0 -2217.50  239256  \n",
       "239257  1935.844 -47449.021916      0.0 -2217.50  239257  \n",
       "239258  1935.844 -15023.245419      0.0 -2217.50  239258  \n",
       "239590  1785.731 -19848.287205      0.0 -1840.28  239590  \n",
       "239591  1785.731  -9920.642511      0.0 -1812.50  239591  \n",
       "240459  1553.107  -7291.023308      0.0 -2626.60  240459  \n",
       "241298  1935.698  -6851.170808      0.0 -2598.90  241298  \n",
       "243730  1527.813 -56379.459763      0.0 -2496.68  243730  \n",
       "243731  1527.813 -49624.840806      0.0 -2444.90  243731  \n",
       "243732  1527.813 -48528.735068      0.0 -2444.90  243732  \n",
       "243733  1527.813 -14560.033833      0.0 -2444.90  243733  "
      ]
     },
     "execution_count": 11,
     "metadata": {},
     "output_type": "execute_result"
    }
   ],
   "source": [
    "df[df['y'] < -5000] "
   ]
  },
  {
   "cell_type": "markdown",
   "metadata": {},
   "source": [
    "It seems like the outliers happens in consecutive places. Let's investigate further."
   ]
  },
  {
   "cell_type": "code",
   "execution_count": 12,
   "metadata": {},
   "outputs": [
    {
     "data": {
      "text/html": [
       "<div>\n",
       "<style scoped>\n",
       "    .dataframe tbody tr th:only-of-type {\n",
       "        vertical-align: middle;\n",
       "    }\n",
       "\n",
       "    .dataframe tbody tr th {\n",
       "        vertical-align: top;\n",
       "    }\n",
       "\n",
       "    .dataframe thead th {\n",
       "        text-align: right;\n",
       "    }\n",
       "</style>\n",
       "<table border=\"1\" class=\"dataframe\">\n",
       "  <thead>\n",
       "    <tr style=\"text-align: right;\">\n",
       "      <th></th>\n",
       "      <th>start_time</th>\n",
       "      <th>hydro</th>\n",
       "      <th>micro</th>\n",
       "      <th>thermal</th>\n",
       "      <th>wind</th>\n",
       "      <th>river</th>\n",
       "      <th>total</th>\n",
       "      <th>y</th>\n",
       "      <th>sys_reg</th>\n",
       "      <th>flow</th>\n",
       "      <th>t</th>\n",
       "    </tr>\n",
       "  </thead>\n",
       "  <tbody>\n",
       "    <tr>\n",
       "      <th>239253</th>\n",
       "      <td>2021-04-19 07:55:00</td>\n",
       "      <td>1731.179</td>\n",
       "      <td>178.282</td>\n",
       "      <td>20.1</td>\n",
       "      <td>22.451</td>\n",
       "      <td>0.0</td>\n",
       "      <td>1952.012</td>\n",
       "      <td>36.264906</td>\n",
       "      <td>0.0</td>\n",
       "      <td>-2327.74</td>\n",
       "      <td>239253</td>\n",
       "    </tr>\n",
       "    <tr>\n",
       "      <th>239254</th>\n",
       "      <td>2021-04-19 08:00:00</td>\n",
       "      <td>1720.256</td>\n",
       "      <td>178.419</td>\n",
       "      <td>20.1</td>\n",
       "      <td>17.069</td>\n",
       "      <td>0.0</td>\n",
       "      <td>1935.844</td>\n",
       "      <td>-32.140504</td>\n",
       "      <td>0.0</td>\n",
       "      <td>-2258.84</td>\n",
       "      <td>239254</td>\n",
       "    </tr>\n",
       "    <tr>\n",
       "      <th>239255</th>\n",
       "      <td>2021-04-19 08:05:00</td>\n",
       "      <td>1720.256</td>\n",
       "      <td>178.419</td>\n",
       "      <td>20.1</td>\n",
       "      <td>17.069</td>\n",
       "      <td>0.0</td>\n",
       "      <td>1935.844</td>\n",
       "      <td>-11134.172366</td>\n",
       "      <td>0.0</td>\n",
       "      <td>-2217.50</td>\n",
       "      <td>239255</td>\n",
       "    </tr>\n",
       "    <tr>\n",
       "      <th>239256</th>\n",
       "      <td>2021-04-19 08:10:00</td>\n",
       "      <td>1720.256</td>\n",
       "      <td>178.419</td>\n",
       "      <td>20.1</td>\n",
       "      <td>17.069</td>\n",
       "      <td>0.0</td>\n",
       "      <td>1935.844</td>\n",
       "      <td>-39017.080774</td>\n",
       "      <td>0.0</td>\n",
       "      <td>-2217.50</td>\n",
       "      <td>239256</td>\n",
       "    </tr>\n",
       "    <tr>\n",
       "      <th>239257</th>\n",
       "      <td>2021-04-19 08:15:00</td>\n",
       "      <td>1720.256</td>\n",
       "      <td>178.419</td>\n",
       "      <td>20.1</td>\n",
       "      <td>17.069</td>\n",
       "      <td>0.0</td>\n",
       "      <td>1935.844</td>\n",
       "      <td>-47449.021916</td>\n",
       "      <td>0.0</td>\n",
       "      <td>-2217.50</td>\n",
       "      <td>239257</td>\n",
       "    </tr>\n",
       "    <tr>\n",
       "      <th>239258</th>\n",
       "      <td>2021-04-19 08:20:00</td>\n",
       "      <td>1720.256</td>\n",
       "      <td>178.419</td>\n",
       "      <td>20.1</td>\n",
       "      <td>17.069</td>\n",
       "      <td>0.0</td>\n",
       "      <td>1935.844</td>\n",
       "      <td>-15023.245419</td>\n",
       "      <td>0.0</td>\n",
       "      <td>-2217.50</td>\n",
       "      <td>239258</td>\n",
       "    </tr>\n",
       "    <tr>\n",
       "      <th>239259</th>\n",
       "      <td>2021-04-19 08:25:00</td>\n",
       "      <td>1720.256</td>\n",
       "      <td>178.419</td>\n",
       "      <td>20.1</td>\n",
       "      <td>17.069</td>\n",
       "      <td>0.0</td>\n",
       "      <td>1935.844</td>\n",
       "      <td>-362.716800</td>\n",
       "      <td>0.0</td>\n",
       "      <td>-2217.50</td>\n",
       "      <td>239259</td>\n",
       "    </tr>\n",
       "    <tr>\n",
       "      <th>239260</th>\n",
       "      <td>2021-04-19 08:30:00</td>\n",
       "      <td>1720.256</td>\n",
       "      <td>178.419</td>\n",
       "      <td>20.1</td>\n",
       "      <td>17.069</td>\n",
       "      <td>0.0</td>\n",
       "      <td>1935.844</td>\n",
       "      <td>52.538523</td>\n",
       "      <td>0.0</td>\n",
       "      <td>-2217.50</td>\n",
       "      <td>239260</td>\n",
       "    </tr>\n",
       "    <tr>\n",
       "      <th>239261</th>\n",
       "      <td>2021-04-19 08:35:00</td>\n",
       "      <td>1720.256</td>\n",
       "      <td>178.419</td>\n",
       "      <td>20.1</td>\n",
       "      <td>17.069</td>\n",
       "      <td>0.0</td>\n",
       "      <td>1935.844</td>\n",
       "      <td>109.085608</td>\n",
       "      <td>0.0</td>\n",
       "      <td>-2217.50</td>\n",
       "      <td>239261</td>\n",
       "    </tr>\n",
       "  </tbody>\n",
       "</table>\n",
       "</div>"
      ],
      "text/plain": [
       "                 start_time     hydro    micro  thermal    wind  river  \\\n",
       "239253  2021-04-19 07:55:00  1731.179  178.282     20.1  22.451    0.0   \n",
       "239254  2021-04-19 08:00:00  1720.256  178.419     20.1  17.069    0.0   \n",
       "239255  2021-04-19 08:05:00  1720.256  178.419     20.1  17.069    0.0   \n",
       "239256  2021-04-19 08:10:00  1720.256  178.419     20.1  17.069    0.0   \n",
       "239257  2021-04-19 08:15:00  1720.256  178.419     20.1  17.069    0.0   \n",
       "239258  2021-04-19 08:20:00  1720.256  178.419     20.1  17.069    0.0   \n",
       "239259  2021-04-19 08:25:00  1720.256  178.419     20.1  17.069    0.0   \n",
       "239260  2021-04-19 08:30:00  1720.256  178.419     20.1  17.069    0.0   \n",
       "239261  2021-04-19 08:35:00  1720.256  178.419     20.1  17.069    0.0   \n",
       "\n",
       "           total             y  sys_reg     flow       t  \n",
       "239253  1952.012     36.264906      0.0 -2327.74  239253  \n",
       "239254  1935.844    -32.140504      0.0 -2258.84  239254  \n",
       "239255  1935.844 -11134.172366      0.0 -2217.50  239255  \n",
       "239256  1935.844 -39017.080774      0.0 -2217.50  239256  \n",
       "239257  1935.844 -47449.021916      0.0 -2217.50  239257  \n",
       "239258  1935.844 -15023.245419      0.0 -2217.50  239258  \n",
       "239259  1935.844   -362.716800      0.0 -2217.50  239259  \n",
       "239260  1935.844     52.538523      0.0 -2217.50  239260  \n",
       "239261  1935.844    109.085608      0.0 -2217.50  239261  "
      ]
     },
     "execution_count": 12,
     "metadata": {},
     "output_type": "execute_result"
    }
   ],
   "source": [
    "df[239253:239262]"
   ]
  },
  {
   "cell_type": "markdown",
   "metadata": {},
   "source": [
    "The values must clearly be wrong. For now, we go for the easy option and just set them to the mean."
   ]
  },
  {
   "cell_type": "code",
   "execution_count": 7,
   "metadata": {},
   "outputs": [],
   "source": [
    "df.loc[df['y'] < -5000, 'y'] = 5.687162\t# Set wrong values to mean"
   ]
  },
  {
   "cell_type": "markdown",
   "metadata": {},
   "source": [
    "Now, the plot should make more sense. "
   ]
  },
  {
   "cell_type": "code",
   "execution_count": 14,
   "metadata": {},
   "outputs": [
    {
     "data": {
      "image/png": "[encoded data removed]",
      "text/plain": [
       "<Figure size 432x288 with 1 Axes>"
      ]
     },
     "metadata": {
      "needs_background": "light"
     },
     "output_type": "display_data"
    }
   ],
   "source": [
    "sns.lineplot(data=df, x='t', y='y' )\n",
    "plt.show()"
   ]
  },
  {
   "cell_type": "markdown",
   "metadata": {},
   "source": [
    "There are still some spikes, but these might be correct values. \n",
    "\n",
    "Let us visualize what we want to predict (the validation set)."
   ]
  },
  {
   "cell_type": "code",
   "execution_count": 15,
   "metadata": {},
   "outputs": [
    {
     "data": {
      "image/png": "[encoded data removed]",
      "text/plain": [
       "<Figure size 432x288 with 1 Axes>"
      ]
     },
     "metadata": {
      "needs_background": "light"
     },
     "output_type": "display_data"
    }
   ],
   "source": [
    "sns.lineplot(data=df[:valid_index], x='t', y='y', ) # Train set\n",
    "sns.lineplot(data=df[valid_index:], x='t', y='y', ) # Valid set\n",
    "plt.show()"
   ]
  },
  {
   "cell_type": "markdown",
   "metadata": {},
   "source": [
    "Let us zoom in a little bit to see clearer"
   ]
  },
  {
   "cell_type": "code",
   "execution_count": 16,
   "metadata": {},
   "outputs": [
    {
     "data": {
      "image/png": "[encoded data removed]",
      "text/plain": [
       "<Figure size 432x288 with 1 Axes>"
      ]
     },
     "metadata": {
      "needs_background": "light"
     },
     "output_type": "display_data"
    }
   ],
   "source": [
    "sns.lineplot(data=df[valid_index-10000:valid_index], x='t', y='y', ) # Train set\n",
    "sns.lineplot(data=df[valid_index:valid_index+10000], x='t', y='y', ) # Valid set\n",
    "plt.show()"
   ]
  },
  {
   "cell_type": "markdown",
   "metadata": {},
   "source": [
    "### River\n",
    "\n",
    "We see that all the river values are 0, so we can just remove this column"
   ]
  },
  {
   "cell_type": "code",
   "execution_count": 17,
   "metadata": {},
   "outputs": [
    {
     "data": {
      "text/plain": [
       "True"
      ]
     },
     "execution_count": 17,
     "metadata": {},
     "output_type": "execute_result"
    }
   ],
   "source": [
    "(df.river == 0).all()"
   ]
  },
  {
   "cell_type": "code",
   "execution_count": 8,
   "metadata": {},
   "outputs": [],
   "source": [
    "df = df.drop(columns='river')"
   ]
  },
  {
   "cell_type": "markdown",
   "metadata": {},
   "source": [
    "### Hydro\n",
    "The planned reservoir hydropower production at the time step."
   ]
  },
  {
   "cell_type": "code",
   "execution_count": 19,
   "metadata": {},
   "outputs": [
    {
     "data": {
      "image/png": "[encoded data removed]",
      "text/plain": [
       "<Figure size 432x288 with 1 Axes>"
      ]
     },
     "metadata": {
      "needs_background": "light"
     },
     "output_type": "display_data"
    }
   ],
   "source": [
    "sns.lineplot(data=df, x='t', y='hydro' )\n",
    "plt.show()"
   ]
  },
  {
   "cell_type": "markdown",
   "metadata": {},
   "source": [
    "The Hydro data seams to have seasonal variation (which makes sense). It might seem like there are some outliers, we will investigate this."
   ]
  },
  {
   "cell_type": "code",
   "execution_count": 20,
   "metadata": {},
   "outputs": [
    {
     "data": {
      "text/html": [
       "<div>\n",
       "<style scoped>\n",
       "    .dataframe tbody tr th:only-of-type {\n",
       "        vertical-align: middle;\n",
       "    }\n",
       "\n",
       "    .dataframe tbody tr th {\n",
       "        vertical-align: top;\n",
       "    }\n",
       "\n",
       "    .dataframe thead th {\n",
       "        text-align: right;\n",
       "    }\n",
       "</style>\n",
       "<table border=\"1\" class=\"dataframe\">\n",
       "  <thead>\n",
       "    <tr style=\"text-align: right;\">\n",
       "      <th></th>\n",
       "      <th>start_time</th>\n",
       "      <th>hydro</th>\n",
       "      <th>micro</th>\n",
       "      <th>thermal</th>\n",
       "      <th>wind</th>\n",
       "      <th>total</th>\n",
       "      <th>y</th>\n",
       "      <th>sys_reg</th>\n",
       "      <th>flow</th>\n",
       "      <th>t</th>\n",
       "    </tr>\n",
       "  </thead>\n",
       "  <tbody>\n",
       "    <tr>\n",
       "      <th>225322</th>\n",
       "      <td>2021-03-01 23:00:00</td>\n",
       "      <td>206.688</td>\n",
       "      <td>36.104</td>\n",
       "      <td>23.1</td>\n",
       "      <td>0.0</td>\n",
       "      <td>265.892</td>\n",
       "      <td>-6.157932</td>\n",
       "      <td>0.0</td>\n",
       "      <td>-2238.6</td>\n",
       "      <td>225322</td>\n",
       "    </tr>\n",
       "    <tr>\n",
       "      <th>225323</th>\n",
       "      <td>2021-03-01 23:05:00</td>\n",
       "      <td>206.688</td>\n",
       "      <td>36.104</td>\n",
       "      <td>23.1</td>\n",
       "      <td>0.0</td>\n",
       "      <td>265.892</td>\n",
       "      <td>-11.859012</td>\n",
       "      <td>0.0</td>\n",
       "      <td>-2238.6</td>\n",
       "      <td>225323</td>\n",
       "    </tr>\n",
       "    <tr>\n",
       "      <th>225324</th>\n",
       "      <td>2021-03-01 23:10:00</td>\n",
       "      <td>206.688</td>\n",
       "      <td>36.104</td>\n",
       "      <td>23.1</td>\n",
       "      <td>0.0</td>\n",
       "      <td>265.892</td>\n",
       "      <td>37.148618</td>\n",
       "      <td>0.0</td>\n",
       "      <td>-2238.6</td>\n",
       "      <td>225324</td>\n",
       "    </tr>\n",
       "    <tr>\n",
       "      <th>225325</th>\n",
       "      <td>2021-03-01 23:15:00</td>\n",
       "      <td>206.688</td>\n",
       "      <td>36.104</td>\n",
       "      <td>23.1</td>\n",
       "      <td>0.0</td>\n",
       "      <td>265.892</td>\n",
       "      <td>52.905536</td>\n",
       "      <td>0.0</td>\n",
       "      <td>-2238.6</td>\n",
       "      <td>225325</td>\n",
       "    </tr>\n",
       "    <tr>\n",
       "      <th>225326</th>\n",
       "      <td>2021-03-01 23:20:00</td>\n",
       "      <td>206.688</td>\n",
       "      <td>36.104</td>\n",
       "      <td>23.1</td>\n",
       "      <td>0.0</td>\n",
       "      <td>265.892</td>\n",
       "      <td>78.877955</td>\n",
       "      <td>0.0</td>\n",
       "      <td>-2238.6</td>\n",
       "      <td>225326</td>\n",
       "    </tr>\n",
       "    <tr>\n",
       "      <th>...</th>\n",
       "      <td>...</td>\n",
       "      <td>...</td>\n",
       "      <td>...</td>\n",
       "      <td>...</td>\n",
       "      <td>...</td>\n",
       "      <td>...</td>\n",
       "      <td>...</td>\n",
       "      <td>...</td>\n",
       "      <td>...</td>\n",
       "      <td>...</td>\n",
       "    </tr>\n",
       "    <tr>\n",
       "      <th>225605</th>\n",
       "      <td>2021-03-02 22:35:00</td>\n",
       "      <td>204.680</td>\n",
       "      <td>36.032</td>\n",
       "      <td>23.1</td>\n",
       "      <td>0.0</td>\n",
       "      <td>263.812</td>\n",
       "      <td>235.117745</td>\n",
       "      <td>0.0</td>\n",
       "      <td>-2590.7</td>\n",
       "      <td>225605</td>\n",
       "    </tr>\n",
       "    <tr>\n",
       "      <th>225606</th>\n",
       "      <td>2021-03-02 22:40:00</td>\n",
       "      <td>204.680</td>\n",
       "      <td>36.032</td>\n",
       "      <td>23.1</td>\n",
       "      <td>0.0</td>\n",
       "      <td>263.812</td>\n",
       "      <td>250.940728</td>\n",
       "      <td>0.0</td>\n",
       "      <td>-2590.7</td>\n",
       "      <td>225606</td>\n",
       "    </tr>\n",
       "    <tr>\n",
       "      <th>225607</th>\n",
       "      <td>2021-03-02 22:45:00</td>\n",
       "      <td>204.680</td>\n",
       "      <td>36.032</td>\n",
       "      <td>23.1</td>\n",
       "      <td>0.0</td>\n",
       "      <td>263.812</td>\n",
       "      <td>271.343005</td>\n",
       "      <td>0.0</td>\n",
       "      <td>-2590.7</td>\n",
       "      <td>225607</td>\n",
       "    </tr>\n",
       "    <tr>\n",
       "      <th>225608</th>\n",
       "      <td>2021-03-02 22:50:00</td>\n",
       "      <td>204.680</td>\n",
       "      <td>36.032</td>\n",
       "      <td>23.1</td>\n",
       "      <td>0.0</td>\n",
       "      <td>263.812</td>\n",
       "      <td>296.410174</td>\n",
       "      <td>0.0</td>\n",
       "      <td>-2590.7</td>\n",
       "      <td>225608</td>\n",
       "    </tr>\n",
       "    <tr>\n",
       "      <th>225609</th>\n",
       "      <td>2021-03-02 22:55:00</td>\n",
       "      <td>204.680</td>\n",
       "      <td>36.032</td>\n",
       "      <td>23.1</td>\n",
       "      <td>0.0</td>\n",
       "      <td>263.812</td>\n",
       "      <td>310.485655</td>\n",
       "      <td>0.0</td>\n",
       "      <td>-2590.7</td>\n",
       "      <td>225609</td>\n",
       "    </tr>\n",
       "  </tbody>\n",
       "</table>\n",
       "<p>288 rows × 10 columns</p>\n",
       "</div>"
      ],
      "text/plain": [
       "                 start_time    hydro   micro  thermal  wind    total  \\\n",
       "225322  2021-03-01 23:00:00  206.688  36.104     23.1   0.0  265.892   \n",
       "225323  2021-03-01 23:05:00  206.688  36.104     23.1   0.0  265.892   \n",
       "225324  2021-03-01 23:10:00  206.688  36.104     23.1   0.0  265.892   \n",
       "225325  2021-03-01 23:15:00  206.688  36.104     23.1   0.0  265.892   \n",
       "225326  2021-03-01 23:20:00  206.688  36.104     23.1   0.0  265.892   \n",
       "...                     ...      ...     ...      ...   ...      ...   \n",
       "225605  2021-03-02 22:35:00  204.680  36.032     23.1   0.0  263.812   \n",
       "225606  2021-03-02 22:40:00  204.680  36.032     23.1   0.0  263.812   \n",
       "225607  2021-03-02 22:45:00  204.680  36.032     23.1   0.0  263.812   \n",
       "225608  2021-03-02 22:50:00  204.680  36.032     23.1   0.0  263.812   \n",
       "225609  2021-03-02 22:55:00  204.680  36.032     23.1   0.0  263.812   \n",
       "\n",
       "                 y  sys_reg    flow       t  \n",
       "225322   -6.157932      0.0 -2238.6  225322  \n",
       "225323  -11.859012      0.0 -2238.6  225323  \n",
       "225324   37.148618      0.0 -2238.6  225324  \n",
       "225325   52.905536      0.0 -2238.6  225325  \n",
       "225326   78.877955      0.0 -2238.6  225326  \n",
       "...            ...      ...     ...     ...  \n",
       "225605  235.117745      0.0 -2590.7  225605  \n",
       "225606  250.940728      0.0 -2590.7  225606  \n",
       "225607  271.343005      0.0 -2590.7  225607  \n",
       "225608  296.410174      0.0 -2590.7  225608  \n",
       "225609  310.485655      0.0 -2590.7  225609  \n",
       "\n",
       "[288 rows x 10 columns]"
      ]
     },
     "execution_count": 20,
     "metadata": {},
     "output_type": "execute_result"
    }
   ],
   "source": [
    "df[df['hydro'] < 500]"
   ]
  },
  {
   "cell_type": "code",
   "execution_count": 21,
   "metadata": {},
   "outputs": [
    {
     "data": {
      "image/png": "[encoded data removed]",
      "text/plain": [
       "<Figure size 432x288 with 1 Axes>"
      ]
     },
     "metadata": {
      "needs_background": "light"
     },
     "output_type": "display_data"
    }
   ],
   "source": [
    "sns.lineplot(data=df[224050:226900], x='t', y='hydro' )\n",
    "plt.show()"
   ]
  },
  {
   "cell_type": "markdown",
   "metadata": {},
   "source": [
    "This seems a little off. We will leave it for now, but keep it in mind."
   ]
  },
  {
   "cell_type": "markdown",
   "metadata": {},
   "source": [
    "### Micro\n",
    "The planned small-scale hydropower production at the time step."
   ]
  },
  {
   "cell_type": "code",
   "execution_count": 22,
   "metadata": {},
   "outputs": [
    {
     "data": {
      "image/png": "[encoded data removed]",
      "text/plain": [
       "<Figure size 432x288 with 1 Axes>"
      ]
     },
     "metadata": {
      "needs_background": "light"
     },
     "output_type": "display_data"
    }
   ],
   "source": [
    "sns.lineplot(data=df, x='t', y='micro' )\n",
    "plt.show()"
   ]
  },
  {
   "cell_type": "markdown",
   "metadata": {},
   "source": [
    "Micro seems to have a drop in the same area as hydro. Maybe something happened in that time-range?"
   ]
  },
  {
   "cell_type": "markdown",
   "metadata": {},
   "source": [
    "### Thermal\n",
    "The planned thermal power plant production at the time step.\n"
   ]
  },
  {
   "cell_type": "code",
   "execution_count": 23,
   "metadata": {},
   "outputs": [
    {
     "data": {
      "image/png": "[encoded data removed]",
      "text/plain": [
       "<Figure size 432x288 with 1 Axes>"
      ]
     },
     "metadata": {
      "needs_background": "light"
     },
     "output_type": "display_data"
    }
   ],
   "source": [
    "sns.lineplot(data=df, x='t', y='thermal' )\n",
    "plt.show()"
   ]
  },
  {
   "cell_type": "markdown",
   "metadata": {},
   "source": [
    "Nothing very special here"
   ]
  },
  {
   "cell_type": "markdown",
   "metadata": {},
   "source": [
    "### Wind\n",
    "The planned wind power plant production at the time step."
   ]
  },
  {
   "cell_type": "code",
   "execution_count": 24,
   "metadata": {},
   "outputs": [
    {
     "data": {
      "image/png": "[encoded data removed]",
      "text/plain": [
       "<Figure size 432x288 with 1 Axes>"
      ]
     },
     "metadata": {
      "needs_background": "light"
     },
     "output_type": "display_data"
    }
   ],
   "source": [
    "sns.lineplot(data=df, x='t', y='wind' )\n",
    "plt.show()"
   ]
  },
  {
   "cell_type": "markdown",
   "metadata": {},
   "source": [
    "Very high variance. Seems like there is a period with little wind in the range [140000, 160000]"
   ]
  },
  {
   "cell_type": "markdown",
   "metadata": {},
   "source": [
    "### Total\n",
    "The total planned energy production. Equal to the sum of the other planned production features."
   ]
  },
  {
   "cell_type": "code",
   "execution_count": 25,
   "metadata": {},
   "outputs": [
    {
     "data": {
      "image/png": "[encoded data removed]",
      "text/plain": [
       "<Figure size 432x288 with 1 Axes>"
      ]
     },
     "metadata": {
      "needs_background": "light"
     },
     "output_type": "display_data"
    }
   ],
   "source": [
    "sns.lineplot(data=df, x='t', y='total' )\n",
    "plt.show()"
   ]
  },
  {
   "cell_type": "markdown",
   "metadata": {},
   "source": [
    "As expected, this follow the same curve as the hydro power since hydro by far is the largest source of energy."
   ]
  },
  {
   "cell_type": "markdown",
   "metadata": {},
   "source": [
    "### Sys_reg\n",
    "The planned ”system regulation” at the time step: activation of balancing services to accommodate\n",
    "specific needs (e.g. bottlenecks) in the power system.\n"
   ]
  },
  {
   "cell_type": "code",
   "execution_count": 26,
   "metadata": {},
   "outputs": [
    {
     "data": {
      "image/png": "[encoded data removed]",
      "text/plain": [
       "<Figure size 432x288 with 1 Axes>"
      ]
     },
     "metadata": {
      "needs_background": "light"
     },
     "output_type": "display_data"
    }
   ],
   "source": [
    "sns.lineplot(data=df, x='t', y='sys_reg' )\n",
    "plt.show()"
   ]
  },
  {
   "cell_type": "markdown",
   "metadata": {},
   "source": [
    "### Flow\n",
    "The planned total power flow in or out of the current area of the grid at the time step. At any moment,\n",
    "power flows between connected bidding areas. This value is the net power flow when considering export to be\n",
    "negative and import to be positive relative to the current area."
   ]
  },
  {
   "cell_type": "code",
   "execution_count": 27,
   "metadata": {},
   "outputs": [
    {
     "data": {
      "image/png": "[encoded data removed]",
      "text/plain": [
       "<Figure size 432x288 with 1 Axes>"
      ]
     },
     "metadata": {
      "needs_background": "light"
     },
     "output_type": "display_data"
    }
   ],
   "source": [
    "sns.lineplot(data=df, x='t', y='flow' )\n",
    "plt.show()"
   ]
  },
  {
   "cell_type": "markdown",
   "metadata": {},
   "source": [
    "It looks like the signs are swapped, so import is negative and export positive. We cannot export 5000 if the total production is 1500"
   ]
  },
  {
   "cell_type": "markdown",
   "metadata": {},
   "source": [
    "## Correlation\n",
    "\n",
    "Let us investigate the correlation between variables. We are mainly interested in correlation with y"
   ]
  },
  {
   "cell_type": "code",
   "execution_count": 29,
   "metadata": {},
   "outputs": [
    {
     "data": {
      "image/png": "[encoded data removed]",
      "text/plain": [
       "<Figure size 864x648 with 2 Axes>"
      ]
     },
     "metadata": {
      "needs_background": "light"
     },
     "output_type": "display_data"
    }
   ],
   "source": [
    "corrmat = df.corr()\n",
    "f, ax = plt.subplots(figsize=(12, 9))\n",
    "sns.heatmap(corrmat, vmax=0.8, square=True)\n",
    "plt.show()"
   ]
  },
  {
   "cell_type": "markdown",
   "metadata": {},
   "source": [
    "It seems like sys_reg actually has the highest positive correlation with y, and flow has the most negative correlation."
   ]
  },
  {
   "cell_type": "markdown",
   "metadata": {},
   "source": [
    "## Feature engineering\n",
    "\n",
    "We can introduce more features to help the model. "
   ]
  },
  {
   "cell_type": "markdown",
   "metadata": {},
   "source": [
    "### Date features\n",
    "\n",
    "- time_of_day: The hour of the day \n",
    "- time_of_week: The day of the week\n",
    "- time_of_year: The season"
   ]
  },
  {
   "cell_type": "code",
   "execution_count": 35,
   "metadata": {},
   "outputs": [],
   "source": [
    "dt = df.start_time.apply(lambda x: datetime.strptime(x, '%Y-%m-%d %H:%M:%S') )\n",
    "df['time_of_day']= dt.apply(lambda x: x.hour)\n",
    "df['time_of_week']= dt.apply(lambda x: x.weekday())\n",
    "df['time_of_year']= dt.apply(lambda x: x.month % 12 // 3 + 1)\n",
    "# df['day']= dt.apply(lambda x: x.day)\n",
    "# df['month']= dt.apply(lambda x: x.month)"
   ]
  },
  {
   "cell_type": "code",
   "execution_count": 45,
   "metadata": {},
   "outputs": [
    {
     "data": {
      "text/html": [
       "<div>\n",
       "<style scoped>\n",
       "    .dataframe tbody tr th:only-of-type {\n",
       "        vertical-align: middle;\n",
       "    }\n",
       "\n",
       "    .dataframe tbody tr th {\n",
       "        vertical-align: top;\n",
       "    }\n",
       "\n",
       "    .dataframe thead th {\n",
       "        text-align: right;\n",
       "    }\n",
       "</style>\n",
       "<table border=\"1\" class=\"dataframe\">\n",
       "  <thead>\n",
       "    <tr style=\"text-align: right;\">\n",
       "      <th></th>\n",
       "      <th>start_time</th>\n",
       "      <th>hydro</th>\n",
       "      <th>micro</th>\n",
       "      <th>thermal</th>\n",
       "      <th>wind</th>\n",
       "      <th>total</th>\n",
       "      <th>y</th>\n",
       "      <th>sys_reg</th>\n",
       "      <th>flow</th>\n",
       "      <th>t</th>\n",
       "      <th>time_of_day</th>\n",
       "      <th>time_of_week</th>\n",
       "      <th>time_of_year</th>\n",
       "    </tr>\n",
       "  </thead>\n",
       "  <tbody>\n",
       "    <tr>\n",
       "      <th>0</th>\n",
       "      <td>2019-01-09 14:10:00</td>\n",
       "      <td>1591.839</td>\n",
       "      <td>141.928</td>\n",
       "      <td>11.5</td>\n",
       "      <td>74.428</td>\n",
       "      <td>1819.695</td>\n",
       "      <td>341.330021</td>\n",
       "      <td>10.0</td>\n",
       "      <td>-4417.4</td>\n",
       "      <td>0</td>\n",
       "      <td>14</td>\n",
       "      <td>2</td>\n",
       "      <td>1</td>\n",
       "    </tr>\n",
       "    <tr>\n",
       "      <th>1</th>\n",
       "      <td>2019-01-09 14:15:00</td>\n",
       "      <td>1591.839</td>\n",
       "      <td>141.928</td>\n",
       "      <td>11.5</td>\n",
       "      <td>74.428</td>\n",
       "      <td>1819.695</td>\n",
       "      <td>330.114330</td>\n",
       "      <td>10.0</td>\n",
       "      <td>-4417.4</td>\n",
       "      <td>1</td>\n",
       "      <td>14</td>\n",
       "      <td>2</td>\n",
       "      <td>1</td>\n",
       "    </tr>\n",
       "    <tr>\n",
       "      <th>2</th>\n",
       "      <td>2019-01-09 14:20:00</td>\n",
       "      <td>1591.839</td>\n",
       "      <td>141.928</td>\n",
       "      <td>11.5</td>\n",
       "      <td>74.428</td>\n",
       "      <td>1819.695</td>\n",
       "      <td>323.877221</td>\n",
       "      <td>10.0</td>\n",
       "      <td>-4417.4</td>\n",
       "      <td>2</td>\n",
       "      <td>14</td>\n",
       "      <td>2</td>\n",
       "      <td>1</td>\n",
       "    </tr>\n",
       "    <tr>\n",
       "      <th>3</th>\n",
       "      <td>2019-01-09 14:25:00</td>\n",
       "      <td>1591.839</td>\n",
       "      <td>141.928</td>\n",
       "      <td>11.5</td>\n",
       "      <td>74.428</td>\n",
       "      <td>1819.695</td>\n",
       "      <td>296.438463</td>\n",
       "      <td>10.0</td>\n",
       "      <td>-4417.4</td>\n",
       "      <td>3</td>\n",
       "      <td>14</td>\n",
       "      <td>2</td>\n",
       "      <td>1</td>\n",
       "    </tr>\n",
       "    <tr>\n",
       "      <th>4</th>\n",
       "      <td>2019-01-09 14:30:00</td>\n",
       "      <td>1591.839</td>\n",
       "      <td>141.928</td>\n",
       "      <td>11.5</td>\n",
       "      <td>74.428</td>\n",
       "      <td>1819.695</td>\n",
       "      <td>269.097132</td>\n",
       "      <td>10.0</td>\n",
       "      <td>-4417.4</td>\n",
       "      <td>4</td>\n",
       "      <td>14</td>\n",
       "      <td>2</td>\n",
       "      <td>1</td>\n",
       "    </tr>\n",
       "  </tbody>\n",
       "</table>\n",
       "</div>"
      ],
      "text/plain": [
       "            start_time     hydro    micro  thermal    wind     total  \\\n",
       "0  2019-01-09 14:10:00  1591.839  141.928     11.5  74.428  1819.695   \n",
       "1  2019-01-09 14:15:00  1591.839  141.928     11.5  74.428  1819.695   \n",
       "2  2019-01-09 14:20:00  1591.839  141.928     11.5  74.428  1819.695   \n",
       "3  2019-01-09 14:25:00  1591.839  141.928     11.5  74.428  1819.695   \n",
       "4  2019-01-09 14:30:00  1591.839  141.928     11.5  74.428  1819.695   \n",
       "\n",
       "            y  sys_reg    flow  t  time_of_day  time_of_week  time_of_year  \n",
       "0  341.330021     10.0 -4417.4  0           14             2             1  \n",
       "1  330.114330     10.0 -4417.4  1           14             2             1  \n",
       "2  323.877221     10.0 -4417.4  2           14             2             1  \n",
       "3  296.438463     10.0 -4417.4  3           14             2             1  \n",
       "4  269.097132     10.0 -4417.4  4           14             2             1  "
      ]
     },
     "execution_count": 45,
     "metadata": {},
     "output_type": "execute_result"
    }
   ],
   "source": [
    "df.head()"
   ]
  }
 ],
 "metadata": {
  "interpreter": {
   "hash": "6cdaa56f2c6d00e26db56d5b38e6b72bc8bebfb9a50408d42f69785dfa696c20"
  },
  "kernelspec": {
   "display_name": "Python 3.9.7 ('tdt4195')",
   "language": "python",
   "name": "python3"
  },
  "language_info": {
   "codemirror_mode": {
    "name": "ipython",
    "version": 3
   },
   "file_extension": ".py",
   "mimetype": "text/x-python",
   "name": "python",
   "nbconvert_exporter": "python",
   "pygments_lexer": "ipython3",
   "version": "3.9.7"
  },
  "orig_nbformat": 4
 },
 "nbformat": 4,
 "nbformat_minor": 2
}
