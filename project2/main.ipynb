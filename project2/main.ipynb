{
 "cells": [
  {
   "cell_type": "code",
   "execution_count": 1,
   "metadata": {},
   "outputs": [],
   "source": [
    "%load_ext autoreload\n",
    "%autoreload 2"
   ]
  },
  {
   "cell_type": "code",
   "execution_count": 2,
   "metadata": {},
   "outputs": [],
   "source": [
    "from stacked_mnist import StackedMNISTData, DataMode\n",
    "from verification_net import VerificationNet\n",
    "import matplotlib.pyplot as plt\n",
    "import numpy as np\n",
    "import tensorflow as tf\n",
    "from tensorflow import keras\n",
    "from tensorflow.keras import layers\n",
    "from auto_encoder import AutoEncoder\n",
    "from vae import VariationalAutoEncoder\n",
    "import tensorflow_probability as tfp\n",
    "from tensorflow.python.ops.numpy_ops import np_config\n",
    "np_config.enable_numpy_behavior()\n",
    "import utils"
   ]
  },
  {
   "cell_type": "markdown",
   "metadata": {},
   "source": [
    "## Generate datasets"
   ]
  },
  {
   "cell_type": "code",
   "execution_count": 3,
   "metadata": {},
   "outputs": [],
   "source": [
    "gen = StackedMNISTData(\n",
    "    mode=DataMode.MONO_BINARY_COMPLETE, default_batch_size=2048)\n",
    "\n",
    "x_train, y_train = gen.get_full_data_set(training=True)\n",
    "x_test, y_test = gen.get_full_data_set(training=False)"
   ]
  },
  {
   "cell_type": "markdown",
   "metadata": {},
   "source": [
    "### Validation network\n",
    "Train the validation network"
   ]
  },
  {
   "cell_type": "code",
   "execution_count": 4,
   "metadata": {},
   "outputs": [
    {
     "name": "stdout",
     "output_type": "stream",
     "text": [
      "Coverage: 100.00%\n",
      "Predictability: 99.03%\n",
      "Accuracy: 98.79%\n"
     ]
    }
   ],
   "source": [
    "valid_net = VerificationNet(force_learn=False)\n",
    "valid_net.train(generator=gen, epochs=100)\n",
    "\n",
    "img, labels = gen.get_random_batch(training=True,  batch_size=25000)\n",
    "cov = valid_net.check_class_coverage(data=img, tolerance=.98)\n",
    "pred, acc = valid_net.check_predictability(data=img, correct_labels=labels)\n",
    "print(f\"Coverage: {100*cov:.2f}%\")\n",
    "print(f\"Predictability: {100*pred:.2f}%\")\n",
    "print(f\"Accuracy: {100 * acc:.2f}%\")"
   ]
  },
  {
   "cell_type": "markdown",
   "metadata": {},
   "source": [
    "# Auto Encoder"
   ]
  },
  {
   "cell_type": "code",
   "execution_count": 5,
   "metadata": {},
   "outputs": [
    {
     "name": "stdout",
     "output_type": "stream",
     "text": [
      "Read model from file, so I do not retrain\n",
      "Read model from file, so I do not retrain\n"
     ]
    },
    {
     "data": {
      "text/plain": [
       "True"
      ]
     },
     "execution_count": 5,
     "metadata": {},
     "output_type": "execute_result"
    }
   ],
   "source": [
    "ae = AutoEncoder(force_learn=False, file_name=\"./models/ae_10_relu\")\n",
    "\n",
    "ae.train(x_train=x_train, x_test=x_test, epochs=25)"
   ]
  },
  {
   "cell_type": "markdown",
   "metadata": {},
   "source": [
    "### Reconstruction\n",
    "Use the verification net to validate the reconstruction ability of the Auto Encoder\n",
    "\n",
    "#### Mono"
   ]
  },
  {
   "cell_type": "code",
   "execution_count": 6,
   "metadata": {},
   "outputs": [
    {
     "name": "stdout",
     "output_type": "stream",
     "text": [
      "Coverage: 100.00%\n",
      "Predictability: 90.13%\n",
      "Accuracy: 84.97%\n"
     ]
    }
   ],
   "source": [
    "img, labels = gen.get_random_batch(training=False,  batch_size=10000)\n",
    "\n",
    "reconstructed = ae.autoencode(img)\n",
    "\n",
    "cov = valid_net.check_class_coverage(data=reconstructed, tolerance=.80)\n",
    "pred, acc = valid_net.check_predictability(data=reconstructed, correct_labels=labels)\n",
    "print(f\"Coverage: {100*cov:.2f}%\")\n",
    "print(f\"Predictability: {100*pred:.2f}%\")\n",
    "print(f\"Accuracy: {100 * acc:.2f}%\")"
   ]
  },
  {
   "cell_type": "markdown",
   "metadata": {},
   "source": [
    "#### Plots\n",
    "\n",
    "Plot the original and reconstructed images"
   ]
  },
  {
   "cell_type": "code",
   "execution_count": 7,
   "metadata": {},
   "outputs": [
    {
     "data": {
      "image/png": "[encoded data removed]",
      "text/plain": [
       "<Figure size 1440x288 with 20 Axes>"
      ]
     },
     "metadata": {
      "needs_background": "light"
     },
     "output_type": "display_data"
    }
   ],
   "source": [
    "utils.plot_10_images(img, reconstructed,filename='AE_Reconstruct.png', random=True )"
   ]
  },
  {
   "cell_type": "markdown",
   "metadata": {},
   "source": [
    "#### Color\n"
   ]
  },
  {
   "cell_type": "code",
   "execution_count": null,
   "metadata": {},
   "outputs": [],
   "source": [
    "gen = StackedMNISTData(\n",
    "    mode=DataMode.COLOR_BINARY_COMPLETE, default_batch_size=2048)\n",
    "\n",
    "x_train, y_train = gen.get_full_data_set(training=True)\n",
    "x_test, y_test = gen.get_full_data_set(training=False)"
   ]
  },
  {
   "cell_type": "code",
   "execution_count": null,
   "metadata": {},
   "outputs": [],
   "source": [
    "img, labels = gen.get_random_batch(training=False,  batch_size=10000)\n",
    "\n",
    "reconstructed = ae.autoencode(img)\n",
    "\n",
    "cov = valid_net.check_class_coverage(data=reconstructed, tolerance=.50)\n",
    "pred, acc = valid_net.check_predictability(data=reconstructed, correct_labels=labels)\n",
    "print(f\"Coverage: {100*cov:.2f}%\")\n",
    "print(f\"Predictability: {100*pred:.2f}%\")\n",
    "print(f\"Accuracy: {100 * acc:.2f}%\")"
   ]
  },
  {
   "cell_type": "code",
   "execution_count": null,
   "metadata": {},
   "outputs": [],
   "source": [
    "utils.plot_10_images(img.astype(np.float32), reconstructed,filename='AE_Reconstruct_color.png', random=True )"
   ]
  },
  {
   "cell_type": "markdown",
   "metadata": {},
   "source": [
    "### Generative model\n",
    "\n",
    "By sending values into the decoder, we can try to generate new images"
   ]
  },
  {
   "cell_type": "code",
   "execution_count": null,
   "metadata": {},
   "outputs": [],
   "source": [
    "generated = ae.generate_images(10000, no_channels=1)"
   ]
  },
  {
   "cell_type": "markdown",
   "metadata": {},
   "source": [
    "Evaluate the images with the verification network"
   ]
  },
  {
   "cell_type": "code",
   "execution_count": null,
   "metadata": {},
   "outputs": [],
   "source": [
    "cov = valid_net.check_class_coverage(data=generated, tolerance=.80)\n",
    "pred, acc = valid_net.check_predictability(data=generated)\n",
    "print(f\"Coverage: {100*cov:.2f}%\")\n",
    "print(f\"Predictability: {100*pred:.2f}%\")"
   ]
  },
  {
   "cell_type": "markdown",
   "metadata": {},
   "source": [
    "#### Plots\n",
    "Plot some of the generated images\n"
   ]
  },
  {
   "cell_type": "code",
   "execution_count": null,
   "metadata": {},
   "outputs": [],
   "source": [
    "plt.figure(figsize=(20, 4))\n",
    "for i in range(10):\n",
    "    ax = plt.subplot(2, 10, i+1)\n",
    "    plt.gray()\n",
    "    ax.get_xaxis().set_visible(False)\n",
    "    ax.get_yaxis().set_visible(False)\n",
    "    plt.imshow(generated[i])\n",
    "plt.savefig('plots/AE_generated_mono')\n",
    "plt.show()"
   ]
  },
  {
   "cell_type": "markdown",
   "metadata": {},
   "source": [
    "#### Color"
   ]
  },
  {
   "cell_type": "code",
   "execution_count": null,
   "metadata": {},
   "outputs": [],
   "source": [
    "generated = ae.generate_images(10000, no_channels=3)\n",
    "plt.figure(figsize=(20, 4))\n",
    "for i in range(10):\n",
    "    ax = plt.subplot(2, 10, i+1)\n",
    "    plt.gray()\n",
    "    ax.get_xaxis().set_visible(False)\n",
    "    ax.get_yaxis().set_visible(False)\n",
    "    plt.imshow(generated[i])\n",
    "plt.savefig('plots/AE_generated_color')\n",
    "plt.show()"
   ]
  },
  {
   "cell_type": "code",
   "execution_count": null,
   "metadata": {},
   "outputs": [],
   "source": [
    "enc = ae.encode(img)"
   ]
  },
  {
   "cell_type": "markdown",
   "metadata": {},
   "source": [
    "(Get max z value for use when creating random vectors)"
   ]
  },
  {
   "cell_type": "code",
   "execution_count": null,
   "metadata": {},
   "outputs": [],
   "source": [
    "enc.max()"
   ]
  },
  {
   "cell_type": "markdown",
   "metadata": {},
   "source": [
    "### Anomaly detection\n",
    "\n",
    "First, we train the AE on a dataset with a missing number."
   ]
  },
  {
   "cell_type": "code",
   "execution_count": 8,
   "metadata": {},
   "outputs": [],
   "source": [
    "gen = StackedMNISTData(\n",
    "    mode=DataMode.MONO_BINARY_MISSING, default_batch_size=2048)\n",
    "\n",
    "x_train, y_train = gen.get_full_data_set(training=True)\n",
    "x_test, y_test = gen.get_full_data_set(training=False)"
   ]
  },
  {
   "cell_type": "code",
   "execution_count": 9,
   "metadata": {},
   "outputs": [
    {
     "name": "stdout",
     "output_type": "stream",
     "text": [
      "Read model from file, so I do not retrain\n"
     ]
    }
   ],
   "source": [
    "ae = AutoEncoder(force_learn=False, file_name=\"./models/ae_missing\")"
   ]
  },
  {
   "cell_type": "code",
   "execution_count": 10,
   "metadata": {},
   "outputs": [
    {
     "name": "stdout",
     "output_type": "stream",
     "text": [
      "Read model from file, so I do not retrain\n"
     ]
    },
    {
     "data": {
      "text/plain": [
       "True"
      ]
     },
     "execution_count": 10,
     "metadata": {},
     "output_type": "execute_result"
    }
   ],
   "source": [
    "ae.train(x_train=x_train, x_test=x_test, epochs=25)"
   ]
  },
  {
   "cell_type": "code",
   "execution_count": 41,
   "metadata": {},
   "outputs": [],
   "source": [
    "gen = StackedMNISTData(\n",
    "    mode=DataMode.COLOR_BINARY_COMPLETE, default_batch_size=2048)\n",
    "\n",
    "img, labels = gen.get_random_batch(training=False,  batch_size=2000)"
   ]
  },
  {
   "cell_type": "code",
   "execution_count": 42,
   "metadata": {},
   "outputs": [],
   "source": [
    "loss = keras.losses.BinaryCrossentropy(\n",
    "    from_logits=False,\n",
    "    label_smoothing=0.0,\n",
    "    axis=-1,\n",
    "    reduction=\"none\",\n",
    "    name=\"binary_crossentropy\",\n",
    ")"
   ]
  },
  {
   "cell_type": "code",
   "execution_count": 45,
   "metadata": {},
   "outputs": [
    {
     "name": "stdout",
     "output_type": "stream",
     "text": [
      "(2000, 28, 28)\n"
     ]
    }
   ],
   "source": [
    "reconstructed = ae.autoencode(img)\n",
    "losses = loss(img, reconstructed)\n",
    "losses = np.average(losses, axis=1)\n",
    "losses = np.average(losses, axis=1)"
   ]
  },
  {
   "cell_type": "code",
   "execution_count": 46,
   "metadata": {},
   "outputs": [],
   "source": [
    "indices = np.argpartition(losses, -10)[-11:]"
   ]
  },
  {
   "cell_type": "code",
   "execution_count": 47,
   "metadata": {},
   "outputs": [
    {
     "data": {
      "text/plain": [
       "array([0.06303445, 0.08765268, 0.04271942, ..., 0.07003618, 0.03042211,\n",
       "       0.10383939], dtype=float32)"
      ]
     },
     "execution_count": 47,
     "metadata": {},
     "output_type": "execute_result"
    }
   ],
   "source": [
    "losses"
   ]
  },
  {
   "cell_type": "code",
   "execution_count": 48,
   "metadata": {},
   "outputs": [
    {
     "data": {
      "image/png": "[encoded data removed]",
      "text/plain": [
       "<Figure size 1440x288 with 20 Axes>"
      ]
     },
     "metadata": {
      "needs_background": "light"
     },
     "output_type": "display_data"
    }
   ],
   "source": [
    "utils.plot_10_images(img[indices].astype(np.float32), reconstructed[indices], filename='AE_anomalies')"
   ]
  },
  {
   "cell_type": "markdown",
   "metadata": {},
   "source": [
    "## Variational Auto Encoder"
   ]
  },
  {
   "cell_type": "code",
   "execution_count": null,
   "metadata": {},
   "outputs": [],
   "source": [
    "gen = StackedMNISTData(\n",
    "    mode=DataMode.MONO_BINARY_COMPLETE, default_batch_size=2048)\n",
    "\n",
    "x_train, y_train = gen.get_full_data_set(training=True)\n",
    "x_test, y_test = gen.get_full_data_set(training=False)"
   ]
  },
  {
   "cell_type": "code",
   "execution_count": 54,
   "metadata": {},
   "outputs": [
    {
     "name": "stdout",
     "output_type": "stream",
     "text": [
      "Read model from file, so I do not retrain\n"
     ]
    }
   ],
   "source": [
    "vae = VariationalAutoEncoder(force_learn=False, file_name=\"./models/vae_8\")"
   ]
  },
  {
   "cell_type": "code",
   "execution_count": null,
   "metadata": {},
   "outputs": [],
   "source": [
    "vae.train(x_train=x_train, x_test=x_test, epochs=20)"
   ]
  },
  {
   "cell_type": "code",
   "execution_count": 55,
   "metadata": {},
   "outputs": [
    {
     "name": "stdout",
     "output_type": "stream",
     "text": [
      "Coverage: 100.00%\n",
      "Predictability: 97.45%\n",
      "Accuracy: 90.54%\n"
     ]
    }
   ],
   "source": [
    "img, labels = gen.get_random_batch(training=False,  batch_size=10000)\n",
    "\n",
    "reconstructed = vae.autoencode(img)\n",
    "\n",
    "cov = valid_net.check_class_coverage(data=reconstructed, tolerance=.80)\n",
    "pred, acc = valid_net.check_predictability(data=reconstructed, correct_labels=labels)\n",
    "print(f\"Coverage: {100*cov:.2f}%\")\n",
    "print(f\"Predictability: {100*pred:.2f}%\")\n",
    "print(f\"Accuracy: {100 * acc:.2f}%\")"
   ]
  },
  {
   "cell_type": "code",
   "execution_count": null,
   "metadata": {},
   "outputs": [],
   "source": [
    "utils.plot_10_images(img, reconstructed, filename='VAE_Reconstruct_mono', random=True)"
   ]
  },
  {
   "cell_type": "markdown",
   "metadata": {},
   "source": [
    "#### Color"
   ]
  },
  {
   "cell_type": "code",
   "execution_count": null,
   "metadata": {},
   "outputs": [],
   "source": [
    "gen = StackedMNISTData(\n",
    "    mode=DataMode.COLOR_BINARY_COMPLETE, default_batch_size=2048)\n",
    "\n",
    "img, labels = gen.get_random_batch(training=False,  batch_size=10000)\n",
    "\n",
    "reconstructed = vae.autoencode(img)\n",
    "\n",
    "cov = valid_net.check_class_coverage(data=reconstructed, tolerance=.50)\n",
    "pred, acc = valid_net.check_predictability(data=reconstructed, correct_labels=labels)\n",
    "print(f\"Coverage: {100*cov:.2f}%\")\n",
    "print(f\"Predictability: {100*pred:.2f}%\")\n",
    "print(f\"Accuracy: {100 * acc:.2f}%\")"
   ]
  },
  {
   "cell_type": "code",
   "execution_count": null,
   "metadata": {},
   "outputs": [],
   "source": [
    "utils.plot_10_images(img.astype(np.float32), reconstructed, filename='VAE_Reconstruct_color', random=True)"
   ]
  },
  {
   "cell_type": "markdown",
   "metadata": {},
   "source": [
    "### VAE as Generative model"
   ]
  },
  {
   "cell_type": "code",
   "execution_count": 56,
   "metadata": {},
   "outputs": [],
   "source": [
    "generated = vae.generate_images(10000, no_channels=1)"
   ]
  },
  {
   "cell_type": "code",
   "execution_count": 305,
   "metadata": {},
   "outputs": [
    {
     "name": "stdout",
     "output_type": "stream",
     "text": [
      "Coverage: 100.00%\n",
      "Predictability: 82.35%\n"
     ]
    }
   ],
   "source": [
    "cov = valid_net.check_class_coverage(data=generated, tolerance=.80)\n",
    "pred, acc = valid_net.check_predictability(data=generated)\n",
    "print(f\"Coverage: {100*cov:.2f}%\")\n",
    "print(f\"Predictability: {100*pred:.2f}%\")"
   ]
  },
  {
   "cell_type": "code",
   "execution_count": 57,
   "metadata": {},
   "outputs": [
    {
     "data": {
      "image/png": "[encoded data removed]",
      "text/plain": [
       "<Figure size 1440x288 with 10 Axes>"
      ]
     },
     "metadata": {
      "needs_background": "light"
     },
     "output_type": "display_data"
    }
   ],
   "source": [
    "plt.figure(figsize=(20, 4))\n",
    "for i in range(10):\n",
    "    ax = plt.subplot(2, 10, i+1)\n",
    "    plt.gray()\n",
    "    ax.get_xaxis().set_visible(False)\n",
    "    ax.get_yaxis().set_visible(False)\n",
    "    plt.imshow(generated[i])\n",
    "plt.savefig('plots/VAE_generated_mono')\n",
    "plt.show()"
   ]
  },
  {
   "cell_type": "markdown",
   "metadata": {},
   "source": [
    "#### Color"
   ]
  },
  {
   "cell_type": "code",
   "execution_count": 330,
   "metadata": {},
   "outputs": [
    {
     "data": {
      "image/png": "[encoded data removed]",
      "text/plain": [
       "<Figure size 1440x288 with 10 Axes>"
      ]
     },
     "metadata": {
      "needs_background": "light"
     },
     "output_type": "display_data"
    }
   ],
   "source": [
    "generated = vae.generate_images(10000, no_channels=3)\n",
    "plt.figure(figsize=(20, 4))\n",
    "for i in range(10):\n",
    "    ax = plt.subplot(2, 10, i+1)\n",
    "    plt.gray()\n",
    "    ax.get_xaxis().set_visible(False)\n",
    "    ax.get_yaxis().set_visible(False)\n",
    "    plt.imshow(generated[i])\n",
    "plt.savefig('plots/VAE_generated_color')\n",
    "plt.show()"
   ]
  },
  {
   "cell_type": "markdown",
   "metadata": {},
   "source": [
    "### Anomaly detection"
   ]
  },
  {
   "cell_type": "code",
   "execution_count": 49,
   "metadata": {},
   "outputs": [],
   "source": [
    "loss = keras.losses.BinaryCrossentropy(\n",
    "    from_logits=False,\n",
    "    label_smoothing=0.0,\n",
    "    axis=-1,\n",
    "    reduction=\"none\",\n",
    "    name=\"binary_crossentropy\",\n",
    ")"
   ]
  },
  {
   "cell_type": "code",
   "execution_count": 85,
   "metadata": {},
   "outputs": [],
   "source": [
    "gen = StackedMNISTData(\n",
    "    mode=DataMode.MONO_BINARY_MISSING, default_batch_size=2048)\n",
    "\n",
    "x_train, y_train = gen.get_full_data_set(training=True)\n",
    "x_test, y_test = gen.get_full_data_set(training=False)"
   ]
  },
  {
   "cell_type": "code",
   "execution_count": 86,
   "metadata": {},
   "outputs": [
    {
     "name": "stdout",
     "output_type": "stream",
     "text": [
      "Could not read weights for autoencoder from file. Must retrain...\n"
     ]
    }
   ],
   "source": [
    "vae = VariationalAutoEncoder(force_learn=False, file_name=\"./models/vae_missing_8\")"
   ]
  },
  {
   "cell_type": "code",
   "execution_count": 87,
   "metadata": {},
   "outputs": [
    {
     "name": "stdout",
     "output_type": "stream",
     "text": [
      "Could not read weights for autoencoder from file. Must retrain...\n",
      "Epoch 1/20\n",
      "WARNING:tensorflow:Detecting that an object or model or tf.train.Checkpoint is being deleted with unrestored values. See the following logs for the specific values in question. To silence these warnings, use `status.expect_partial()`. See https://www.tensorflow.org/api_docs/python/tf/train/Checkpoint#restorefor details about the status object returned by the restore function.\n",
      "WARNING:tensorflow:Value in checkpoint could not be found in the restored object: (root).optimizer.iter\n",
      "WARNING:tensorflow:Value in checkpoint could not be found in the restored object: (root).optimizer.beta_1\n",
      "WARNING:tensorflow:Value in checkpoint could not be found in the restored object: (root).optimizer.beta_2\n",
      "WARNING:tensorflow:Value in checkpoint could not be found in the restored object: (root).optimizer.decay\n",
      "WARNING:tensorflow:Value in checkpoint could not be found in the restored object: (root).optimizer.learning_rate\n",
      "106/106 [==============================] - 9s 44ms/step - loss: 260.2625 - accuracy: 0.8699 - val_loss: 208.1411 - val_accuracy: 0.8658\n",
      "Epoch 2/20\n",
      "106/106 [==============================] - 4s 34ms/step - loss: 176.5240 - accuracy: 0.8862 - val_loss: 147.8088 - val_accuracy: 0.9213\n",
      "Epoch 3/20\n",
      "106/106 [==============================] - 4s 34ms/step - loss: 132.2355 - accuracy: 0.9345 - val_loss: 129.6729 - val_accuracy: 0.9371\n",
      "Epoch 4/20\n",
      "106/106 [==============================] - 4s 35ms/step - loss: 122.5381 - accuracy: 0.9426 - val_loss: 125.2291 - val_accuracy: 0.9405\n",
      "Epoch 5/20\n",
      "106/106 [==============================] - 4s 35ms/step - loss: 118.5263 - accuracy: 0.9457 - val_loss: 122.6521 - val_accuracy: 0.9420\n",
      "Epoch 6/20\n",
      "106/106 [==============================] - 4s 34ms/step - loss: 115.8846 - accuracy: 0.9478 - val_loss: 120.2789 - val_accuracy: 0.9453\n",
      "Epoch 7/20\n",
      "106/106 [==============================] - 4s 35ms/step - loss: 113.9965 - accuracy: 0.9493 - val_loss: 118.5562 - val_accuracy: 0.9466\n",
      "Epoch 8/20\n",
      "106/106 [==============================] - 4s 34ms/step - loss: 112.4797 - accuracy: 0.9504 - val_loss: 117.7304 - val_accuracy: 0.9476\n",
      "Epoch 9/20\n",
      "106/106 [==============================] - 4s 35ms/step - loss: 111.3929 - accuracy: 0.9514 - val_loss: 116.9932 - val_accuracy: 0.9487\n",
      "Epoch 10/20\n",
      "106/106 [==============================] - 4s 36ms/step - loss: 110.2800 - accuracy: 0.9522 - val_loss: 116.4360 - val_accuracy: 0.9486\n",
      "Epoch 11/20\n",
      "106/106 [==============================] - 4s 37ms/step - loss: 109.4860 - accuracy: 0.9528 - val_loss: 115.9297 - val_accuracy: 0.9478\n",
      "Epoch 12/20\n",
      "106/106 [==============================] - 4s 37ms/step - loss: 108.6866 - accuracy: 0.9534 - val_loss: 115.4912 - val_accuracy: 0.9501\n",
      "Epoch 13/20\n",
      "106/106 [==============================] - 4s 35ms/step - loss: 108.0161 - accuracy: 0.9540 - val_loss: 114.9193 - val_accuracy: 0.9497\n",
      "Epoch 14/20\n",
      "106/106 [==============================] - 4s 35ms/step - loss: 107.3744 - accuracy: 0.9545 - val_loss: 114.8498 - val_accuracy: 0.9485\n",
      "Epoch 15/20\n",
      "106/106 [==============================] - 4s 34ms/step - loss: 106.8943 - accuracy: 0.9548 - val_loss: 114.4952 - val_accuracy: 0.9497\n",
      "Epoch 16/20\n",
      "106/106 [==============================] - 4s 35ms/step - loss: 106.4349 - accuracy: 0.9552 - val_loss: 114.2720 - val_accuracy: 0.9506\n",
      "Epoch 17/20\n",
      "106/106 [==============================] - 4s 35ms/step - loss: 105.8634 - accuracy: 0.9556 - val_loss: 113.5355 - val_accuracy: 0.9506\n",
      "Epoch 18/20\n",
      "106/106 [==============================] - 4s 35ms/step - loss: 105.4243 - accuracy: 0.9560 - val_loss: 113.4056 - val_accuracy: 0.9506\n",
      "Epoch 19/20\n",
      "106/106 [==============================] - 3s 31ms/step - loss: 104.9831 - accuracy: 0.9563 - val_loss: 113.3268 - val_accuracy: 0.9510\n",
      "Epoch 20/20\n",
      "106/106 [==============================] - 3s 32ms/step - loss: 104.7128 - accuracy: 0.9566 - val_loss: 113.2918 - val_accuracy: 0.9518\n"
     ]
    },
    {
     "data": {
      "text/plain": [
       "True"
      ]
     },
     "execution_count": 87,
     "metadata": {},
     "output_type": "execute_result"
    }
   ],
   "source": [
    "vae.train(x_train=x_train, x_test=x_test, epochs=20)"
   ]
  },
  {
   "cell_type": "code",
   "execution_count": 100,
   "metadata": {},
   "outputs": [],
   "source": [
    "gen = StackedMNISTData(\n",
    "    mode=DataMode.MONO_BINARY_COMPLETE, default_batch_size=2048)\n",
    "\n",
    "img, labels = gen.get_random_batch(training=False, batch_size=3000)"
   ]
  },
  {
   "cell_type": "code",
   "execution_count": 122,
   "metadata": {},
   "outputs": [],
   "source": [
    "N = 2000\n",
    "p_x = np.zeros(len(img))\n",
    "for i in range(len(img)):\n",
    "\n",
    "    z = np.random.randn(1, 8)\n",
    "    dec = vae.decode_channel(z)\n",
    "    I = img[i:i+1].repeat(N, axis=0)\n",
    "    p = loss(I,dec)# Shape=(N,28,28)\n",
    "    p = np.average(p, axis=1) # Shape=(N, 28)\n",
    "    p = np.average(p, axis=1) # Shape = (N,)\n",
    "\n",
    "    p = np.exp(-p)\n",
    "    p = np.average(p)\n",
    "    p_x[i] = p \n",
    "\n",
    "    \n",
    "\n",
    "    "
   ]
  },
  {
   "cell_type": "code",
   "execution_count": 123,
   "metadata": {},
   "outputs": [],
   "source": [
    "indices = np.argpartition(p_x, 100)[:101]"
   ]
  },
  {
   "cell_type": "code",
   "execution_count": 124,
   "metadata": {},
   "outputs": [
    {
     "data": {
      "image/png": "[encoded data removed]",
      "text/plain": [
       "<Figure size 1440x1440 with 100 Axes>"
      ]
     },
     "metadata": {
      "needs_background": "light"
     },
     "output_type": "display_data"
    }
   ],
   "source": [
    "plt.figure(figsize=(20, 20))\n",
    "for i in range(100):\n",
    "        ax = plt.subplot(10, 10, i+1)\n",
    "        plt.gray()\n",
    "        ax.get_xaxis().set_visible(False)\n",
    "        ax.get_yaxis().set_visible(False)\n",
    "        plt.imshow(img[indices[i]])\n",
    "\n",
    "plt.savefig('plots/VAE_anomalies')\n",
    "plt.show()"
   ]
  },
  {
   "cell_type": "markdown",
   "metadata": {},
   "source": [
    "#### Color"
   ]
  },
  {
   "cell_type": "code",
   "execution_count": 125,
   "metadata": {},
   "outputs": [],
   "source": [
    "gen = StackedMNISTData(\n",
    "    mode=DataMode.COLOR_BINARY_COMPLETE, default_batch_size=2048)\n",
    "\n",
    "img, labels = gen.get_random_batch(training=False, batch_size=3000)"
   ]
  },
  {
   "cell_type": "code",
   "execution_count": null,
   "metadata": {},
   "outputs": [],
   "source": [
    "# TODO: Make \"find X most anomaly imgs\""
   ]
  }
 ],
 "metadata": {
  "interpreter": {
   "hash": "6cdaa56f2c6d00e26db56d5b38e6b72bc8bebfb9a50408d42f69785dfa696c20"
  },
  "kernelspec": {
   "display_name": "Python 3.9.7 ('tdt4195')",
   "language": "python",
   "name": "python3"
  },
  "language_info": {
   "codemirror_mode": {
    "name": "ipython",
    "version": 3
   },
   "file_extension": ".py",
   "mimetype": "text/x-python",
   "name": "python",
   "nbconvert_exporter": "python",
   "pygments_lexer": "ipython3",
   "version": "3.9.7"
  },
  "orig_nbformat": 4
 },
 "nbformat": 4,
 "nbformat_minor": 2
}
